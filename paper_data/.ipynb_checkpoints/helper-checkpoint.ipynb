{
 "cells": [
  {
   "cell_type": "code",
   "execution_count": 1,
   "id": "b1a1e041-025e-473e-b5de-8ba8db35df3c",
   "metadata": {},
   "outputs": [],
   "source": [
    "import pandas as pd"
   ]
  },
  {
   "cell_type": "code",
   "execution_count": 2,
   "id": "76006fce-d3f2-4072-b862-54eddaf7c299",
   "metadata": {},
   "outputs": [],
   "source": [
    "lit_df = pd.read_excel(\"all_lit_data.xlsx\", index_col=\"ID\")"
   ]
  },
  {
   "cell_type": "code",
   "execution_count": 3,
   "id": "fd835d15-30d1-474f-a436-1bff4f9c6cf9",
   "metadata": {
    "tags": []
   },
   "outputs": [
    {
     "data": {
      "text/plain": [
       "Index(['Unnamed: 0', 'Description', 'Cte', 'Cti', 'MT', 'ML', 'PA', 'PR',\n",
       "       'Brookite ', 'CA', 'CR', 'SA', 'BG', 'g', 'umol/hr', 'cm3/g.cathr',\n",
       "       'HY', 'Unnamed: 18', 'C', 'LV', 'AT', 'AC', 'RT', 'LT', 'LP',\n",
       "       'Lamp info', 'SG', 'LI', 'LI in Einstein', 'IA', 'AcP', 'ApP',\n",
       "       'Rate of evolution', 'Unit for rate', 'Rate (molecules/s)',\n",
       "       'Photonic efficiency', 'Apparent quantum efficiency', 'Discription',\n",
       "       'Synthesis', 'Catalyst synthesis method', 'Activity promotaion method',\n",
       "       'Promotion', 'PC', 'PO', 'PD', 'MEN', 'MAN', 'MWF', 'AMW', 'Rate',\n",
       "       'ATI'],\n",
       "      dtype='object')"
      ]
     },
     "execution_count": 3,
     "metadata": {},
     "output_type": "execute_result"
    }
   ],
   "source": [
    "lit_df.columns"
   ]
  },
  {
   "cell_type": "code",
   "execution_count": 4,
   "id": "19d268b6-546a-467a-824d-a70445bf5dd1",
   "metadata": {},
   "outputs": [
    {
     "data": {
      "text/plain": [
       "ID\n",
       "AA01     Com\n",
       "AA02      SG\n",
       "AB01      HT\n",
       "AB02      HT\n",
       "AB03      HT\n",
       "        ... \n",
       "ABJ02     HT\n",
       "ABJ03     HT\n",
       "ABJ04     HT\n",
       "ABJ05    Com\n",
       "ABJ06     HT\n",
       "Name: Synthesis, Length: 927, dtype: object"
      ]
     },
     "execution_count": 4,
     "metadata": {},
     "output_type": "execute_result"
    }
   ],
   "source": [
    "lit_df[\"Synthesis\"]"
   ]
  },
  {
   "cell_type": "code",
   "execution_count": 5,
   "id": "88e7ce15-9f26-4577-aaf0-9bc9e3c5a0b7",
   "metadata": {},
   "outputs": [],
   "source": [
    "lit_df.Synthesis.value_counts().to_excel(\"Synthesis_hist.xlsx\")"
   ]
  },
  {
   "cell_type": "code",
   "execution_count": null,
   "id": "19abc452-9c9d-492a-8f62-a9c20533dd63",
   "metadata": {},
   "outputs": [],
   "source": []
  },
  {
   "cell_type": "code",
   "execution_count": 25,
   "id": "f29e577b-4790-4df6-b5c5-40614d085202",
   "metadata": {},
   "outputs": [],
   "source": [
    "df = pd.read_excel(\"main_model_predictions_data.xlsx\", index_col=\"ID\")"
   ]
  },
  {
   "cell_type": "code",
   "execution_count": 86,
   "id": "bd9d461a-a364-4abc-b251-899397b5988a",
   "metadata": {},
   "outputs": [
    {
     "data": {
      "text/plain": [
       "(166.5315843660494, 272.154410211627)"
      ]
     },
     "execution_count": 86,
     "metadata": {},
     "output_type": "execute_result"
    }
   ],
   "source": [
    "df.Rate.mean(), df.Rate.std()"
   ]
  },
  {
   "cell_type": "code",
   "execution_count": null,
   "id": "7cf14301-ec4e-4caa-ac4b-adac7c83cfe1",
   "metadata": {},
   "outputs": [],
   "source": []
  },
  {
   "cell_type": "code",
   "execution_count": 84,
   "id": "91a60c76-c9d2-4c6b-a332-edd3eb01f775",
   "metadata": {},
   "outputs": [
    {
     "name": "stderr",
     "output_type": "stream",
     "text": [
      "C:\\Users\\z5326694\\AppData\\Local\\Temp/ipykernel_20364/1666006328.py:1: UserWarning: Boolean Series key will be reindexed to match DataFrame index.\n",
      "  df[df.dataset == \"Train\"][df.AT == \"methanol\"][[\"ML\", \"MWF\", \"AC\", \"ATI\", \"AcP\", \"Rate\"]].describe()\n"
     ]
    },
    {
     "data": {
      "text/html": [
       "<div>\n",
       "<style scoped>\n",
       "    .dataframe tbody tr th:only-of-type {\n",
       "        vertical-align: middle;\n",
       "    }\n",
       "\n",
       "    .dataframe tbody tr th {\n",
       "        vertical-align: top;\n",
       "    }\n",
       "\n",
       "    .dataframe thead th {\n",
       "        text-align: right;\n",
       "    }\n",
       "</style>\n",
       "<table border=\"1\" class=\"dataframe\">\n",
       "  <thead>\n",
       "    <tr style=\"text-align: right;\">\n",
       "      <th></th>\n",
       "      <th>ML</th>\n",
       "      <th>MWF</th>\n",
       "      <th>AC</th>\n",
       "      <th>ATI</th>\n",
       "      <th>AcP</th>\n",
       "      <th>Rate</th>\n",
       "    </tr>\n",
       "  </thead>\n",
       "  <tbody>\n",
       "    <tr>\n",
       "      <th>count</th>\n",
       "      <td>95.000000</td>\n",
       "      <td>95.000000</td>\n",
       "      <td>95.000000</td>\n",
       "      <td>9.500000e+01</td>\n",
       "      <td>9.500000e+01</td>\n",
       "      <td>95.000000</td>\n",
       "    </tr>\n",
       "    <tr>\n",
       "      <th>mean</th>\n",
       "      <td>0.015285</td>\n",
       "      <td>4.953158</td>\n",
       "      <td>0.280484</td>\n",
       "      <td>9.624186e-01</td>\n",
       "      <td>2.544926e+17</td>\n",
       "      <td>267.724444</td>\n",
       "    </tr>\n",
       "    <tr>\n",
       "      <th>std</th>\n",
       "      <td>0.010775</td>\n",
       "      <td>0.624344</td>\n",
       "      <td>0.296718</td>\n",
       "      <td>1.116113e-16</td>\n",
       "      <td>2.872556e+17</td>\n",
       "      <td>415.836480</td>\n",
       "    </tr>\n",
       "    <tr>\n",
       "      <th>min</th>\n",
       "      <td>0.000000</td>\n",
       "      <td>0.000000</td>\n",
       "      <td>0.010000</td>\n",
       "      <td>9.624186e-01</td>\n",
       "      <td>4.917126e+16</td>\n",
       "      <td>9.523810</td>\n",
       "    </tr>\n",
       "    <tr>\n",
       "      <th>25%</th>\n",
       "      <td>0.005625</td>\n",
       "      <td>4.980000</td>\n",
       "      <td>0.100000</td>\n",
       "      <td>9.624186e-01</td>\n",
       "      <td>6.318385e+16</td>\n",
       "      <td>71.500000</td>\n",
       "    </tr>\n",
       "    <tr>\n",
       "      <th>50%</th>\n",
       "      <td>0.010000</td>\n",
       "      <td>5.060000</td>\n",
       "      <td>0.100000</td>\n",
       "      <td>9.624186e-01</td>\n",
       "      <td>6.401452e+16</td>\n",
       "      <td>111.150000</td>\n",
       "    </tr>\n",
       "    <tr>\n",
       "      <th>75%</th>\n",
       "      <td>0.021000</td>\n",
       "      <td>5.060000</td>\n",
       "      <td>0.400000</td>\n",
       "      <td>9.624186e-01</td>\n",
       "      <td>4.004000e+17</td>\n",
       "      <td>170.625000</td>\n",
       "    </tr>\n",
       "    <tr>\n",
       "      <th>max</th>\n",
       "      <td>0.048750</td>\n",
       "      <td>5.540000</td>\n",
       "      <td>1.000000</td>\n",
       "      <td>9.624186e-01</td>\n",
       "      <td>1.050343e+18</td>\n",
       "      <td>1543.653251</td>\n",
       "    </tr>\n",
       "  </tbody>\n",
       "</table>\n",
       "</div>"
      ],
      "text/plain": [
       "              ML        MWF         AC           ATI           AcP  \\\n",
       "count  95.000000  95.000000  95.000000  9.500000e+01  9.500000e+01   \n",
       "mean    0.015285   4.953158   0.280484  9.624186e-01  2.544926e+17   \n",
       "std     0.010775   0.624344   0.296718  1.116113e-16  2.872556e+17   \n",
       "min     0.000000   0.000000   0.010000  9.624186e-01  4.917126e+16   \n",
       "25%     0.005625   4.980000   0.100000  9.624186e-01  6.318385e+16   \n",
       "50%     0.010000   5.060000   0.100000  9.624186e-01  6.401452e+16   \n",
       "75%     0.021000   5.060000   0.400000  9.624186e-01  4.004000e+17   \n",
       "max     0.048750   5.540000   1.000000  9.624186e-01  1.050343e+18   \n",
       "\n",
       "              Rate  \n",
       "count    95.000000  \n",
       "mean    267.724444  \n",
       "std     415.836480  \n",
       "min       9.523810  \n",
       "25%      71.500000  \n",
       "50%     111.150000  \n",
       "75%     170.625000  \n",
       "max    1543.653251  "
      ]
     },
     "execution_count": 84,
     "metadata": {},
     "output_type": "execute_result"
    }
   ],
   "source": [
    "df[df.dataset == \"Train\"][df.AT == \"methanol\"][[\"ML\", \"MWF\", \"AC\", \"ATI\", \"AcP\", \"Rate\"]].describe()"
   ]
  },
  {
   "cell_type": "code",
   "execution_count": 85,
   "id": "17e44b2f-1e5c-4e01-aefe-33532188543d",
   "metadata": {},
   "outputs": [
    {
     "name": "stderr",
     "output_type": "stream",
     "text": [
      "C:\\Users\\z5326694\\AppData\\Local\\Temp/ipykernel_20364/3217174881.py:1: UserWarning: Boolean Series key will be reindexed to match DataFrame index.\n",
      "  df[df.dataset == \"Train\"][df.AT == \"ethanol\"][[\"ML\", \"MWF\", \"AC\", \"ATI\", \"AcP\", \"Rate\"]].describe()\n"
     ]
    },
    {
     "data": {
      "text/html": [
       "<div>\n",
       "<style scoped>\n",
       "    .dataframe tbody tr th:only-of-type {\n",
       "        vertical-align: middle;\n",
       "    }\n",
       "\n",
       "    .dataframe tbody tr th {\n",
       "        vertical-align: top;\n",
       "    }\n",
       "\n",
       "    .dataframe thead th {\n",
       "        text-align: right;\n",
       "    }\n",
       "</style>\n",
       "<table border=\"1\" class=\"dataframe\">\n",
       "  <thead>\n",
       "    <tr style=\"text-align: right;\">\n",
       "      <th></th>\n",
       "      <th>ML</th>\n",
       "      <th>MWF</th>\n",
       "      <th>AC</th>\n",
       "      <th>ATI</th>\n",
       "      <th>AcP</th>\n",
       "      <th>Rate</th>\n",
       "    </tr>\n",
       "  </thead>\n",
       "  <tbody>\n",
       "    <tr>\n",
       "      <th>count</th>\n",
       "      <td>170.000000</td>\n",
       "      <td>170.000000</td>\n",
       "      <td>170.000000</td>\n",
       "      <td>1.700000e+02</td>\n",
       "      <td>1.700000e+02</td>\n",
       "      <td>170.000000</td>\n",
       "    </tr>\n",
       "    <tr>\n",
       "      <th>mean</th>\n",
       "      <td>0.013046</td>\n",
       "      <td>4.892235</td>\n",
       "      <td>0.460941</td>\n",
       "      <td>2.192748e-01</td>\n",
       "      <td>7.828813e+16</td>\n",
       "      <td>142.640278</td>\n",
       "    </tr>\n",
       "    <tr>\n",
       "      <th>std</th>\n",
       "      <td>0.013281</td>\n",
       "      <td>0.874931</td>\n",
       "      <td>0.356492</td>\n",
       "      <td>2.783757e-17</td>\n",
       "      <td>7.181969e+16</td>\n",
       "      <td>253.444881</td>\n",
       "    </tr>\n",
       "    <tr>\n",
       "      <th>min</th>\n",
       "      <td>0.000000</td>\n",
       "      <td>0.000000</td>\n",
       "      <td>0.010000</td>\n",
       "      <td>2.192748e-01</td>\n",
       "      <td>4.917126e+16</td>\n",
       "      <td>2.600000</td>\n",
       "    </tr>\n",
       "    <tr>\n",
       "      <th>25%</th>\n",
       "      <td>0.005000</td>\n",
       "      <td>4.980000</td>\n",
       "      <td>0.100000</td>\n",
       "      <td>2.192748e-01</td>\n",
       "      <td>6.216598e+16</td>\n",
       "      <td>41.992241</td>\n",
       "    </tr>\n",
       "    <tr>\n",
       "      <th>50%</th>\n",
       "      <td>0.010000</td>\n",
       "      <td>5.060000</td>\n",
       "      <td>0.410000</td>\n",
       "      <td>2.192748e-01</td>\n",
       "      <td>6.248933e+16</td>\n",
       "      <td>75.691379</td>\n",
       "    </tr>\n",
       "    <tr>\n",
       "      <th>75%</th>\n",
       "      <td>0.020000</td>\n",
       "      <td>5.060000</td>\n",
       "      <td>0.800000</td>\n",
       "      <td>2.192748e-01</td>\n",
       "      <td>6.318385e+16</td>\n",
       "      <td>151.287500</td>\n",
       "    </tr>\n",
       "    <tr>\n",
       "      <th>max</th>\n",
       "      <td>0.100000</td>\n",
       "      <td>5.540000</td>\n",
       "      <td>1.000000</td>\n",
       "      <td>2.192748e-01</td>\n",
       "      <td>4.004000e+17</td>\n",
       "      <td>1390.209790</td>\n",
       "    </tr>\n",
       "  </tbody>\n",
       "</table>\n",
       "</div>"
      ],
      "text/plain": [
       "               ML         MWF          AC           ATI           AcP  \\\n",
       "count  170.000000  170.000000  170.000000  1.700000e+02  1.700000e+02   \n",
       "mean     0.013046    4.892235    0.460941  2.192748e-01  7.828813e+16   \n",
       "std      0.013281    0.874931    0.356492  2.783757e-17  7.181969e+16   \n",
       "min      0.000000    0.000000    0.010000  2.192748e-01  4.917126e+16   \n",
       "25%      0.005000    4.980000    0.100000  2.192748e-01  6.216598e+16   \n",
       "50%      0.010000    5.060000    0.410000  2.192748e-01  6.248933e+16   \n",
       "75%      0.020000    5.060000    0.800000  2.192748e-01  6.318385e+16   \n",
       "max      0.100000    5.540000    1.000000  2.192748e-01  4.004000e+17   \n",
       "\n",
       "              Rate  \n",
       "count   170.000000  \n",
       "mean    142.640278  \n",
       "std     253.444881  \n",
       "min       2.600000  \n",
       "25%      41.992241  \n",
       "50%      75.691379  \n",
       "75%     151.287500  \n",
       "max    1390.209790  "
      ]
     },
     "execution_count": 85,
     "metadata": {},
     "output_type": "execute_result"
    }
   ],
   "source": [
    "df[df.dataset == \"Train\"][df.AT == \"ethanol\"][[\"ML\", \"MWF\", \"AC\", \"ATI\", \"AcP\", \"Rate\"]].describe()"
   ]
  },
  {
   "cell_type": "code",
   "execution_count": 89,
   "id": "509fe61d-91ee-48a8-bf87-0f2cc54eca78",
   "metadata": {},
   "outputs": [
    {
     "data": {
      "text/html": [
       "<div>\n",
       "<style scoped>\n",
       "    .dataframe tbody tr th:only-of-type {\n",
       "        vertical-align: middle;\n",
       "    }\n",
       "\n",
       "    .dataframe tbody tr th {\n",
       "        vertical-align: top;\n",
       "    }\n",
       "\n",
       "    .dataframe thead th {\n",
       "        text-align: right;\n",
       "    }\n",
       "</style>\n",
       "<table border=\"1\" class=\"dataframe\">\n",
       "  <thead>\n",
       "    <tr style=\"text-align: right;\">\n",
       "      <th></th>\n",
       "      <th>ML</th>\n",
       "      <th>MWF</th>\n",
       "      <th>AC</th>\n",
       "      <th>ATI</th>\n",
       "      <th>AcP</th>\n",
       "      <th>Rate</th>\n",
       "    </tr>\n",
       "  </thead>\n",
       "  <tbody>\n",
       "    <tr>\n",
       "      <th>count</th>\n",
       "      <td>42.000000</td>\n",
       "      <td>4.200000e+01</td>\n",
       "      <td>42.000000</td>\n",
       "      <td>42.000000</td>\n",
       "      <td>4.200000e+01</td>\n",
       "      <td>42.000000</td>\n",
       "    </tr>\n",
       "    <tr>\n",
       "      <th>mean</th>\n",
       "      <td>0.018542</td>\n",
       "      <td>5.540000e+00</td>\n",
       "      <td>0.337762</td>\n",
       "      <td>0.200277</td>\n",
       "      <td>3.352436e+17</td>\n",
       "      <td>819.456421</td>\n",
       "    </tr>\n",
       "    <tr>\n",
       "      <th>std</th>\n",
       "      <td>0.006852</td>\n",
       "      <td>8.989446e-16</td>\n",
       "      <td>0.294917</td>\n",
       "      <td>0.997377</td>\n",
       "      <td>2.127811e+17</td>\n",
       "      <td>585.263840</td>\n",
       "    </tr>\n",
       "    <tr>\n",
       "      <th>min</th>\n",
       "      <td>0.010000</td>\n",
       "      <td>5.540000e+00</td>\n",
       "      <td>0.049000</td>\n",
       "      <td>-2.154719</td>\n",
       "      <td>4.917126e+16</td>\n",
       "      <td>40.751748</td>\n",
       "    </tr>\n",
       "    <tr>\n",
       "      <th>25%</th>\n",
       "      <td>0.010000</td>\n",
       "      <td>5.540000e+00</td>\n",
       "      <td>0.100000</td>\n",
       "      <td>0.219275</td>\n",
       "      <td>6.262812e+16</td>\n",
       "      <td>173.225000</td>\n",
       "    </tr>\n",
       "    <tr>\n",
       "      <th>50%</th>\n",
       "      <td>0.021000</td>\n",
       "      <td>5.540000e+00</td>\n",
       "      <td>0.245000</td>\n",
       "      <td>0.219275</td>\n",
       "      <td>4.004000e+17</td>\n",
       "      <td>1101.990723</td>\n",
       "    </tr>\n",
       "    <tr>\n",
       "      <th>75%</th>\n",
       "      <td>0.021000</td>\n",
       "      <td>5.540000e+00</td>\n",
       "      <td>0.542500</td>\n",
       "      <td>0.962419</td>\n",
       "      <td>4.004000e+17</td>\n",
       "      <td>1322.947570</td>\n",
       "    </tr>\n",
       "    <tr>\n",
       "      <th>max</th>\n",
       "      <td>0.040000</td>\n",
       "      <td>5.540000e+00</td>\n",
       "      <td>0.980000</td>\n",
       "      <td>0.962419</td>\n",
       "      <td>9.976881e+17</td>\n",
       "      <td>1543.653251</td>\n",
       "    </tr>\n",
       "  </tbody>\n",
       "</table>\n",
       "</div>"
      ],
      "text/plain": [
       "              ML           MWF         AC        ATI           AcP  \\\n",
       "count  42.000000  4.200000e+01  42.000000  42.000000  4.200000e+01   \n",
       "mean    0.018542  5.540000e+00   0.337762   0.200277  3.352436e+17   \n",
       "std     0.006852  8.989446e-16   0.294917   0.997377  2.127811e+17   \n",
       "min     0.010000  5.540000e+00   0.049000  -2.154719  4.917126e+16   \n",
       "25%     0.010000  5.540000e+00   0.100000   0.219275  6.262812e+16   \n",
       "50%     0.021000  5.540000e+00   0.245000   0.219275  4.004000e+17   \n",
       "75%     0.021000  5.540000e+00   0.542500   0.962419  4.004000e+17   \n",
       "max     0.040000  5.540000e+00   0.980000   0.962419  9.976881e+17   \n",
       "\n",
       "              Rate  \n",
       "count    42.000000  \n",
       "mean    819.456421  \n",
       "std     585.263840  \n",
       "min      40.751748  \n",
       "25%     173.225000  \n",
       "50%    1101.990723  \n",
       "75%    1322.947570  \n",
       "max    1543.653251  "
      ]
     },
     "execution_count": 89,
     "metadata": {},
     "output_type": "execute_result"
    }
   ],
   "source": [
    "df[df.MT == \"Pt\"][[\"ML\", \"MWF\", \"AC\", \"ATI\", \"AcP\", \"Rate\"]].describe()"
   ]
  },
  {
   "cell_type": "code",
   "execution_count": 90,
   "id": "8f152766-5b52-442c-8f02-cf0ed0dfeb92",
   "metadata": {},
   "outputs": [
    {
     "data": {
      "text/html": [
       "<div>\n",
       "<style scoped>\n",
       "    .dataframe tbody tr th:only-of-type {\n",
       "        vertical-align: middle;\n",
       "    }\n",
       "\n",
       "    .dataframe tbody tr th {\n",
       "        vertical-align: top;\n",
       "    }\n",
       "\n",
       "    .dataframe thead th {\n",
       "        text-align: right;\n",
       "    }\n",
       "</style>\n",
       "<table border=\"1\" class=\"dataframe\">\n",
       "  <thead>\n",
       "    <tr style=\"text-align: right;\">\n",
       "      <th></th>\n",
       "      <th>ML</th>\n",
       "      <th>MWF</th>\n",
       "      <th>AC</th>\n",
       "      <th>ATI</th>\n",
       "      <th>AcP</th>\n",
       "      <th>Rate</th>\n",
       "    </tr>\n",
       "  </thead>\n",
       "  <tbody>\n",
       "    <tr>\n",
       "      <th>count</th>\n",
       "      <td>34.000000</td>\n",
       "      <td>34.00</td>\n",
       "      <td>34.0</td>\n",
       "      <td>34.000000</td>\n",
       "      <td>3.400000e+01</td>\n",
       "      <td>34.000000</td>\n",
       "    </tr>\n",
       "    <tr>\n",
       "      <th>mean</th>\n",
       "      <td>0.006507</td>\n",
       "      <td>5.06</td>\n",
       "      <td>0.1</td>\n",
       "      <td>-0.374385</td>\n",
       "      <td>1.247245e+17</td>\n",
       "      <td>189.537654</td>\n",
       "    </tr>\n",
       "    <tr>\n",
       "      <th>std</th>\n",
       "      <td>0.003105</td>\n",
       "      <td>0.00</td>\n",
       "      <td>0.0</td>\n",
       "      <td>1.072695</td>\n",
       "      <td>1.876502e+17</td>\n",
       "      <td>71.921030</td>\n",
       "    </tr>\n",
       "    <tr>\n",
       "      <th>min</th>\n",
       "      <td>0.001250</td>\n",
       "      <td>5.06</td>\n",
       "      <td>0.1</td>\n",
       "      <td>-2.154719</td>\n",
       "      <td>4.932953e+16</td>\n",
       "      <td>27.950000</td>\n",
       "    </tr>\n",
       "    <tr>\n",
       "      <th>25%</th>\n",
       "      <td>0.005000</td>\n",
       "      <td>5.06</td>\n",
       "      <td>0.1</td>\n",
       "      <td>-0.671785</td>\n",
       "      <td>4.977140e+16</td>\n",
       "      <td>142.422847</td>\n",
       "    </tr>\n",
       "    <tr>\n",
       "      <th>50%</th>\n",
       "      <td>0.005000</td>\n",
       "      <td>5.06</td>\n",
       "      <td>0.1</td>\n",
       "      <td>-0.170207</td>\n",
       "      <td>6.216598e+16</td>\n",
       "      <td>201.175000</td>\n",
       "    </tr>\n",
       "    <tr>\n",
       "      <th>75%</th>\n",
       "      <td>0.009063</td>\n",
       "      <td>5.06</td>\n",
       "      <td>0.1</td>\n",
       "      <td>0.219275</td>\n",
       "      <td>6.216598e+16</td>\n",
       "      <td>246.350000</td>\n",
       "    </tr>\n",
       "    <tr>\n",
       "      <th>max</th>\n",
       "      <td>0.016250</td>\n",
       "      <td>5.06</td>\n",
       "      <td>0.1</td>\n",
       "      <td>0.962419</td>\n",
       "      <td>9.055288e+17</td>\n",
       "      <td>308.750000</td>\n",
       "    </tr>\n",
       "  </tbody>\n",
       "</table>\n",
       "</div>"
      ],
      "text/plain": [
       "              ML    MWF    AC        ATI           AcP        Rate\n",
       "count  34.000000  34.00  34.0  34.000000  3.400000e+01   34.000000\n",
       "mean    0.006507   5.06   0.1  -0.374385  1.247245e+17  189.537654\n",
       "std     0.003105   0.00   0.0   1.072695  1.876502e+17   71.921030\n",
       "min     0.001250   5.06   0.1  -2.154719  4.932953e+16   27.950000\n",
       "25%     0.005000   5.06   0.1  -0.671785  4.977140e+16  142.422847\n",
       "50%     0.005000   5.06   0.1  -0.170207  6.216598e+16  201.175000\n",
       "75%     0.009063   5.06   0.1   0.219275  6.216598e+16  246.350000\n",
       "max     0.016250   5.06   0.1   0.962419  9.055288e+17  308.750000"
      ]
     },
     "execution_count": 90,
     "metadata": {},
     "output_type": "execute_result"
    }
   ],
   "source": [
    "df[df.MT == \"Pd\"][[\"ML\", \"MWF\", \"AC\", \"ATI\", \"AcP\", \"Rate\"]].describe()"
   ]
  },
  {
   "cell_type": "code",
   "execution_count": 91,
   "id": "3f8fea69-e268-484a-b6ce-44eff425a493",
   "metadata": {},
   "outputs": [
    {
     "data": {
      "text/html": [
       "<div>\n",
       "<style scoped>\n",
       "    .dataframe tbody tr th:only-of-type {\n",
       "        vertical-align: middle;\n",
       "    }\n",
       "\n",
       "    .dataframe tbody tr th {\n",
       "        vertical-align: top;\n",
       "    }\n",
       "\n",
       "    .dataframe thead th {\n",
       "        text-align: right;\n",
       "    }\n",
       "</style>\n",
       "<table border=\"1\" class=\"dataframe\">\n",
       "  <thead>\n",
       "    <tr style=\"text-align: right;\">\n",
       "      <th></th>\n",
       "      <th>ML</th>\n",
       "      <th>MWF</th>\n",
       "      <th>AC</th>\n",
       "      <th>ATI</th>\n",
       "      <th>AcP</th>\n",
       "      <th>Rate</th>\n",
       "    </tr>\n",
       "  </thead>\n",
       "  <tbody>\n",
       "    <tr>\n",
       "      <th>count</th>\n",
       "      <td>189.000000</td>\n",
       "      <td>1.890000e+02</td>\n",
       "      <td>189.000000</td>\n",
       "      <td>189.000000</td>\n",
       "      <td>1.890000e+02</td>\n",
       "      <td>189.000000</td>\n",
       "    </tr>\n",
       "    <tr>\n",
       "      <th>mean</th>\n",
       "      <td>0.016500</td>\n",
       "      <td>5.060000e+00</td>\n",
       "      <td>0.354392</td>\n",
       "      <td>-0.331409</td>\n",
       "      <td>7.189542e+16</td>\n",
       "      <td>119.866041</td>\n",
       "    </tr>\n",
       "    <tr>\n",
       "      <th>std</th>\n",
       "      <td>0.011685</td>\n",
       "      <td>8.905375e-16</td>\n",
       "      <td>0.337864</td>\n",
       "      <td>1.055732</td>\n",
       "      <td>9.412320e+16</td>\n",
       "      <td>59.368382</td>\n",
       "    </tr>\n",
       "    <tr>\n",
       "      <th>min</th>\n",
       "      <td>0.001000</td>\n",
       "      <td>5.060000e+00</td>\n",
       "      <td>0.010000</td>\n",
       "      <td>-2.154719</td>\n",
       "      <td>4.917126e+16</td>\n",
       "      <td>2.600000</td>\n",
       "    </tr>\n",
       "    <tr>\n",
       "      <th>25%</th>\n",
       "      <td>0.007500</td>\n",
       "      <td>5.060000e+00</td>\n",
       "      <td>0.100000</td>\n",
       "      <td>-0.671785</td>\n",
       "      <td>6.216598e+16</td>\n",
       "      <td>66.300000</td>\n",
       "    </tr>\n",
       "    <tr>\n",
       "      <th>50%</th>\n",
       "      <td>0.020000</td>\n",
       "      <td>5.060000e+00</td>\n",
       "      <td>0.100000</td>\n",
       "      <td>0.219275</td>\n",
       "      <td>6.318385e+16</td>\n",
       "      <td>126.750000</td>\n",
       "    </tr>\n",
       "    <tr>\n",
       "      <th>75%</th>\n",
       "      <td>0.020000</td>\n",
       "      <td>5.060000e+00</td>\n",
       "      <td>0.800000</td>\n",
       "      <td>0.219275</td>\n",
       "      <td>6.318385e+16</td>\n",
       "      <td>161.850000</td>\n",
       "    </tr>\n",
       "    <tr>\n",
       "      <th>max</th>\n",
       "      <td>0.100000</td>\n",
       "      <td>5.060000e+00</td>\n",
       "      <td>1.000000</td>\n",
       "      <td>0.962419</td>\n",
       "      <td>1.050343e+18</td>\n",
       "      <td>324.350000</td>\n",
       "    </tr>\n",
       "  </tbody>\n",
       "</table>\n",
       "</div>"
      ],
      "text/plain": [
       "               ML           MWF          AC         ATI           AcP  \\\n",
       "count  189.000000  1.890000e+02  189.000000  189.000000  1.890000e+02   \n",
       "mean     0.016500  5.060000e+00    0.354392   -0.331409  7.189542e+16   \n",
       "std      0.011685  8.905375e-16    0.337864    1.055732  9.412320e+16   \n",
       "min      0.001000  5.060000e+00    0.010000   -2.154719  4.917126e+16   \n",
       "25%      0.007500  5.060000e+00    0.100000   -0.671785  6.216598e+16   \n",
       "50%      0.020000  5.060000e+00    0.100000    0.219275  6.318385e+16   \n",
       "75%      0.020000  5.060000e+00    0.800000    0.219275  6.318385e+16   \n",
       "max      0.100000  5.060000e+00    1.000000    0.962419  1.050343e+18   \n",
       "\n",
       "             Rate  \n",
       "count  189.000000  \n",
       "mean   119.866041  \n",
       "std     59.368382  \n",
       "min      2.600000  \n",
       "25%     66.300000  \n",
       "50%    126.750000  \n",
       "75%    161.850000  \n",
       "max    324.350000  "
      ]
     },
     "execution_count": 91,
     "metadata": {},
     "output_type": "execute_result"
    }
   ],
   "source": [
    "df[df.MT == \"Au\"][[\"ML\", \"MWF\", \"AC\", \"ATI\", \"AcP\", \"Rate\"]].describe()"
   ]
  },
  {
   "cell_type": "code",
   "execution_count": null,
   "id": "e9926ae2-0de6-4362-af44-436759c0c3db",
   "metadata": {},
   "outputs": [],
   "source": []
  },
  {
   "cell_type": "code",
   "execution_count": 62,
   "id": "477e0d29-2f8c-4463-9476-fea91b2d5bd1",
   "metadata": {},
   "outputs": [
    {
     "name": "stderr",
     "output_type": "stream",
     "text": [
      "C:\\Users\\z5326694\\AppData\\Local\\Temp/ipykernel_20364/227558440.py:1: UserWarning: Boolean Series key will be reindexed to match DataFrame index.\n",
      "  df[df.dataset == \"Train\"][df.MT == \"Pt\"].Rate.std()\n"
     ]
    },
    {
     "data": {
      "text/plain": [
       "585.263840457889"
      ]
     },
     "execution_count": 62,
     "metadata": {},
     "output_type": "execute_result"
    }
   ],
   "source": [
    "df[df.dataset == \"Train\"][df.MT == \"Pt\"].Rate.std()"
   ]
  },
  {
   "cell_type": "code",
   "execution_count": 69,
   "id": "e1c6dfa1-91e3-4d34-9a77-49eda4630521",
   "metadata": {},
   "outputs": [
    {
     "name": "stderr",
     "output_type": "stream",
     "text": [
      "C:\\Users\\z5326694\\AppData\\Local\\Temp/ipykernel_20364/1334092353.py:1: UserWarning: Boolean Series key will be reindexed to match DataFrame index.\n",
      "  df[df.dataset == \"Train\"][df.MT == \"Pd\"].Rate.describe()\n"
     ]
    },
    {
     "data": {
      "text/plain": [
       "count     33.000000\n",
       "mean     191.144856\n",
       "std       72.413463\n",
       "min       27.950000\n",
       "25%      160.191388\n",
       "50%      202.150000\n",
       "75%      248.300000\n",
       "max      308.750000\n",
       "Name: Rate, dtype: float64"
      ]
     },
     "execution_count": 69,
     "metadata": {},
     "output_type": "execute_result"
    }
   ],
   "source": [
    "df[df.dataset == \"Train\"][df.MT == \"Pd\"].Rate.describe()"
   ]
  },
  {
   "cell_type": "code",
   "execution_count": 95,
   "id": "d9b17856-90fe-4bf2-b692-3ddb4addbc3b",
   "metadata": {},
   "outputs": [],
   "source": [
    "import numpy as np\n",
    "from scipy.stats import skew"
   ]
  },
  {
   "cell_type": "code",
   "execution_count": 104,
   "id": "408926e8-4fb9-4adf-acfc-dc189ddd9e46",
   "metadata": {},
   "outputs": [
    {
     "data": {
      "text/plain": [
       "-0.8322026482471598"
      ]
     },
     "execution_count": 104,
     "metadata": {},
     "output_type": "execute_result"
    }
   ],
   "source": [
    "skew(df[df.dataset == \"Test\"].error)"
   ]
  },
  {
   "cell_type": "code",
   "execution_count": 103,
   "id": "cefb773a-6a1b-40e2-87bb-52eb24a37e71",
   "metadata": {},
   "outputs": [
    {
     "data": {
      "text/plain": [
       "count     481.000000\n",
       "mean      166.531584\n",
       "std       272.154410\n",
       "min         2.600000\n",
       "25%        56.550000\n",
       "50%       107.250000\n",
       "75%       157.950000\n",
       "max      1543.653251\n",
       "Name: Rate, dtype: float64"
      ]
     },
     "execution_count": 103,
     "metadata": {},
     "output_type": "execute_result"
    }
   ],
   "source": [
    "df.Rate.describe()"
   ]
  },
  {
   "cell_type": "code",
   "execution_count": null,
   "id": "f32eb50a-a227-4962-abb3-674a9751e719",
   "metadata": {},
   "outputs": [],
   "source": []
  },
  {
   "cell_type": "code",
   "execution_count": 124,
   "id": "f34c1368-845f-4fd4-b7c5-b8ebc84a2487",
   "metadata": {},
   "outputs": [
    {
     "data": {
      "text/plain": [
       "0.4015242977101811"
      ]
     },
     "execution_count": 124,
     "metadata": {},
     "output_type": "execute_result"
    }
   ],
   "source": [
    "((30*792)/(1000*32.04)) / ( ((30*792)/(1000*32.04)) + ((20*997)/(1000*18.04)) )"
   ]
  },
  {
   "cell_type": "code",
   "execution_count": null,
   "id": "943779e0-d5fe-4d9a-960e-d4f24114c74e",
   "metadata": {},
   "outputs": [],
   "source": []
  },
  {
   "cell_type": "code",
   "execution_count": 121,
   "id": "954329c0-48d5-47cb-a3e5-eeb40e2e6cc7",
   "metadata": {},
   "outputs": [],
   "source": [
    "shap_data = pd.read_excel(\"shape_partial_dependence_AC.xlsx\")"
   ]
  },
  {
   "cell_type": "code",
   "execution_count": 122,
   "id": "a79cfee5-29f1-4432-805f-1c4c00911ce2",
   "metadata": {},
   "outputs": [
    {
     "data": {
      "text/plain": [
       "Unnamed: 0     1903.000000\n",
       "AC                0.999558\n",
       "mean_Rate       187.496677\n",
       "std_Rate        463.174527\n",
       "min_Rate          5.723627\n",
       "max_Rate       1541.853777\n",
       "median_Rate     127.918783\n",
       "dtype: float64"
      ]
     },
     "execution_count": 122,
     "metadata": {},
     "output_type": "execute_result"
    }
   ],
   "source": []
  },
  {
   "cell_type": "code",
   "execution_count": 120,
   "id": "de7df079-38f1-493d-a53e-e6aa9ebd3783",
   "metadata": {},
   "outputs": [
    {
     "data": {
      "text/plain": [
       "6.0336329495385685"
      ]
     },
     "execution_count": 120,
     "metadata": {},
     "output_type": "execute_result"
    }
   ],
   "source": [
    "df.Rate.max()/shap_data.mean_Rate.max()"
   ]
  },
  {
   "cell_type": "code",
   "execution_count": null,
   "id": "5e87aef3-55ad-4e70-9387-d56d8e0ece56",
   "metadata": {},
   "outputs": [],
   "source": []
  },
  {
   "cell_type": "code",
   "execution_count": null,
   "id": "31155ca6-cc85-4c99-a638-62ae87c38a16",
   "metadata": {},
   "outputs": [],
   "source": []
  },
  {
   "cell_type": "code",
   "execution_count": null,
   "id": "1ce77a03-bb3e-4a38-be12-58283edc81b0",
   "metadata": {},
   "outputs": [],
   "source": []
  },
  {
   "cell_type": "code",
   "execution_count": null,
   "id": "5619e5ee-2230-40dd-a077-98f736aeee57",
   "metadata": {},
   "outputs": [],
   "source": []
  },
  {
   "cell_type": "code",
   "execution_count": 2,
   "id": "e841bd2f-7f6b-4b40-80ac-57fc827d60b0",
   "metadata": {},
   "outputs": [],
   "source": [
    "df = pd.read_excel(\"final_comparing.xlsx\")"
   ]
  },
  {
   "cell_type": "code",
   "execution_count": 3,
   "id": "1755c832-17ad-4170-a59f-13efa5c59fe1",
   "metadata": {},
   "outputs": [],
   "source": [
    "from sklearn import metrics"
   ]
  },
  {
   "cell_type": "code",
   "execution_count": 9,
   "id": "2b250967-44a4-4c3d-87ab-546860864e9c",
   "metadata": {},
   "outputs": [
    {
     "data": {
      "text/plain": [
       "18.710067467214493"
      ]
     },
     "execution_count": 9,
     "metadata": {},
     "output_type": "execute_result"
    }
   ],
   "source": [
    "metrics.mean_squared_error(\n",
    "    y_true=df.Rate,\n",
    "    y_pred=df.acp_rate,\n",
    "    squared=False\n",
    ")"
   ]
  },
  {
   "cell_type": "code",
   "execution_count": 10,
   "id": "67a2c439-07e0-49e3-8c42-8a2122b6ec1e",
   "metadata": {},
   "outputs": [
    {
     "data": {
      "text/plain": [
       "1526.93498452012"
      ]
     },
     "execution_count": 10,
     "metadata": {},
     "output_type": "execute_result"
    }
   ],
   "source": [
    "df.Rate.max()"
   ]
  },
  {
   "cell_type": "code",
   "execution_count": 21,
   "id": "6d1e213f-fa01-4856-b396-77a272716c2a",
   "metadata": {},
   "outputs": [],
   "source": [
    "(75 * (313/350)) / (139/1527)"
   ]
  },
  {
   "cell_type": "code",
   "execution_count": null,
   "id": "918c1a48-766b-47a2-b605-e6e5dc1d06f6",
   "metadata": {},
   "outputs": [],
   "source": []
  },
  {
   "cell_type": "code",
   "execution_count": 23,
   "id": "3246a85c-92f9-4984-8134-9cfd4afc6ecb",
   "metadata": {},
   "outputs": [
    {
     "data": {
      "text/html": [
       "<div>\n",
       "<style scoped>\n",
       "    .dataframe tbody tr th:only-of-type {\n",
       "        vertical-align: middle;\n",
       "    }\n",
       "\n",
       "    .dataframe tbody tr th {\n",
       "        vertical-align: top;\n",
       "    }\n",
       "\n",
       "    .dataframe thead th {\n",
       "        text-align: right;\n",
       "    }\n",
       "</style>\n",
       "<table border=\"1\" class=\"dataframe\">\n",
       "  <thead>\n",
       "    <tr style=\"text-align: right;\">\n",
       "      <th></th>\n",
       "      <th>ID</th>\n",
       "      <th>ML</th>\n",
       "      <th>MWF</th>\n",
       "      <th>AC</th>\n",
       "      <th>ATI</th>\n",
       "      <th>Rate</th>\n",
       "      <th>source</th>\n",
       "      <th>AcP</th>\n",
       "      <th>MT</th>\n",
       "      <th>AT</th>\n",
       "      <th>no_acp_rate</th>\n",
       "      <th>acp_rate</th>\n",
       "      <th>ApP_Rate_predictions</th>\n",
       "      <th>LI_Rate_predictions</th>\n",
       "    </tr>\n",
       "  </thead>\n",
       "  <tbody>\n",
       "    <tr>\n",
       "      <th>24</th>\n",
       "      <td>ABC32</td>\n",
       "      <td>0.0210</td>\n",
       "      <td>5.54</td>\n",
       "      <td>0.65</td>\n",
       "      <td>-2.154719</td>\n",
       "      <td>1047.678019</td>\n",
       "      <td>Lit</td>\n",
       "      <td>4.004000e+17</td>\n",
       "      <td>Pt</td>\n",
       "      <td>glycerol</td>\n",
       "      <td>1147.093302</td>\n",
       "      <td>1047.678019</td>\n",
       "      <td>976.813870</td>\n",
       "      <td>1190.124268</td>\n",
       "    </tr>\n",
       "    <tr>\n",
       "      <th>31</th>\n",
       "      <td>AAZ63</td>\n",
       "      <td>0.0100</td>\n",
       "      <td>4.53</td>\n",
       "      <td>1.00</td>\n",
       "      <td>-2.154719</td>\n",
       "      <td>12.350000</td>\n",
       "      <td>Lit</td>\n",
       "      <td>6.401452e+16</td>\n",
       "      <td>Cu</td>\n",
       "      <td>glycerol</td>\n",
       "      <td>72.700033</td>\n",
       "      <td>32.627235</td>\n",
       "      <td>-11.981938</td>\n",
       "      <td>-43.442902</td>\n",
       "    </tr>\n",
       "    <tr>\n",
       "      <th>38</th>\n",
       "      <td>ABG08</td>\n",
       "      <td>0.0150</td>\n",
       "      <td>5.06</td>\n",
       "      <td>0.10</td>\n",
       "      <td>-2.154719</td>\n",
       "      <td>97.630000</td>\n",
       "      <td>Lit</td>\n",
       "      <td>6.057973e+16</td>\n",
       "      <td>Pd</td>\n",
       "      <td>glycerol</td>\n",
       "      <td>362.445473</td>\n",
       "      <td>97.630000</td>\n",
       "      <td>152.457741</td>\n",
       "      <td>157.657318</td>\n",
       "    </tr>\n",
       "    <tr>\n",
       "      <th>39</th>\n",
       "      <td>ABG07</td>\n",
       "      <td>0.0150</td>\n",
       "      <td>5.06</td>\n",
       "      <td>0.10</td>\n",
       "      <td>-2.154719</td>\n",
       "      <td>100.815000</td>\n",
       "      <td>Lit</td>\n",
       "      <td>6.145627e+16</td>\n",
       "      <td>Pd</td>\n",
       "      <td>glycerol</td>\n",
       "      <td>362.445473</td>\n",
       "      <td>100.815000</td>\n",
       "      <td>152.457741</td>\n",
       "      <td>157.657318</td>\n",
       "    </tr>\n",
       "    <tr>\n",
       "      <th>40</th>\n",
       "      <td>ABG11</td>\n",
       "      <td>0.0150</td>\n",
       "      <td>5.06</td>\n",
       "      <td>0.10</td>\n",
       "      <td>-2.154719</td>\n",
       "      <td>138.970000</td>\n",
       "      <td>Lit</td>\n",
       "      <td>6.460552e+16</td>\n",
       "      <td>Pd</td>\n",
       "      <td>glycerol</td>\n",
       "      <td>362.445473</td>\n",
       "      <td>138.970000</td>\n",
       "      <td>152.457741</td>\n",
       "      <td>157.657318</td>\n",
       "    </tr>\n",
       "    <tr>\n",
       "      <th>...</th>\n",
       "      <td>...</td>\n",
       "      <td>...</td>\n",
       "      <td>...</td>\n",
       "      <td>...</td>\n",
       "      <td>...</td>\n",
       "      <td>...</td>\n",
       "      <td>...</td>\n",
       "      <td>...</td>\n",
       "      <td>...</td>\n",
       "      <td>...</td>\n",
       "      <td>...</td>\n",
       "      <td>...</td>\n",
       "      <td>...</td>\n",
       "      <td>...</td>\n",
       "    </tr>\n",
       "    <tr>\n",
       "      <th>259</th>\n",
       "      <td>AAP164</td>\n",
       "      <td>0.0050</td>\n",
       "      <td>4.98</td>\n",
       "      <td>0.70</td>\n",
       "      <td>-2.154719</td>\n",
       "      <td>83.850000</td>\n",
       "      <td>Lit</td>\n",
       "      <td>6.318385e+16</td>\n",
       "      <td>Ni</td>\n",
       "      <td>glycerol</td>\n",
       "      <td>116.092890</td>\n",
       "      <td>83.850000</td>\n",
       "      <td>73.606361</td>\n",
       "      <td>66.767479</td>\n",
       "    </tr>\n",
       "    <tr>\n",
       "      <th>261</th>\n",
       "      <td>AAP48</td>\n",
       "      <td>0.0075</td>\n",
       "      <td>4.98</td>\n",
       "      <td>0.10</td>\n",
       "      <td>-2.154719</td>\n",
       "      <td>126.750000</td>\n",
       "      <td>Lit</td>\n",
       "      <td>6.318385e+16</td>\n",
       "      <td>Ni</td>\n",
       "      <td>glycerol</td>\n",
       "      <td>196.184882</td>\n",
       "      <td>151.981852</td>\n",
       "      <td>137.102213</td>\n",
       "      <td>122.504143</td>\n",
       "    </tr>\n",
       "    <tr>\n",
       "      <th>266</th>\n",
       "      <td>AAP158</td>\n",
       "      <td>0.0050</td>\n",
       "      <td>4.98</td>\n",
       "      <td>0.10</td>\n",
       "      <td>-2.154719</td>\n",
       "      <td>155.350000</td>\n",
       "      <td>Lit</td>\n",
       "      <td>6.318385e+16</td>\n",
       "      <td>Ni</td>\n",
       "      <td>glycerol</td>\n",
       "      <td>237.016204</td>\n",
       "      <td>162.175000</td>\n",
       "      <td>170.247642</td>\n",
       "      <td>162.545120</td>\n",
       "    </tr>\n",
       "    <tr>\n",
       "      <th>267</th>\n",
       "      <td>AAP178</td>\n",
       "      <td>0.0200</td>\n",
       "      <td>5.06</td>\n",
       "      <td>0.50</td>\n",
       "      <td>-2.154719</td>\n",
       "      <td>148.850000</td>\n",
       "      <td>Lit</td>\n",
       "      <td>6.318385e+16</td>\n",
       "      <td>Pd</td>\n",
       "      <td>glycerol</td>\n",
       "      <td>174.063060</td>\n",
       "      <td>148.850000</td>\n",
       "      <td>156.154020</td>\n",
       "      <td>137.105423</td>\n",
       "    </tr>\n",
       "    <tr>\n",
       "      <th>277</th>\n",
       "      <td>AAZ55</td>\n",
       "      <td>0.0100</td>\n",
       "      <td>4.53</td>\n",
       "      <td>0.30</td>\n",
       "      <td>-2.154719</td>\n",
       "      <td>122.850000</td>\n",
       "      <td>Lit</td>\n",
       "      <td>6.401452e+16</td>\n",
       "      <td>Cu</td>\n",
       "      <td>glycerol</td>\n",
       "      <td>215.845244</td>\n",
       "      <td>121.144317</td>\n",
       "      <td>114.183280</td>\n",
       "      <td>141.540558</td>\n",
       "    </tr>\n",
       "  </tbody>\n",
       "</table>\n",
       "<p>61 rows × 14 columns</p>\n",
       "</div>"
      ],
      "text/plain": [
       "         ID      ML   MWF    AC       ATI         Rate source           AcP  \\\n",
       "24    ABC32  0.0210  5.54  0.65 -2.154719  1047.678019    Lit  4.004000e+17   \n",
       "31    AAZ63  0.0100  4.53  1.00 -2.154719    12.350000    Lit  6.401452e+16   \n",
       "38    ABG08  0.0150  5.06  0.10 -2.154719    97.630000    Lit  6.057973e+16   \n",
       "39    ABG07  0.0150  5.06  0.10 -2.154719   100.815000    Lit  6.145627e+16   \n",
       "40    ABG11  0.0150  5.06  0.10 -2.154719   138.970000    Lit  6.460552e+16   \n",
       "..      ...     ...   ...   ...       ...          ...    ...           ...   \n",
       "259  AAP164  0.0050  4.98  0.70 -2.154719    83.850000    Lit  6.318385e+16   \n",
       "261   AAP48  0.0075  4.98  0.10 -2.154719   126.750000    Lit  6.318385e+16   \n",
       "266  AAP158  0.0050  4.98  0.10 -2.154719   155.350000    Lit  6.318385e+16   \n",
       "267  AAP178  0.0200  5.06  0.50 -2.154719   148.850000    Lit  6.318385e+16   \n",
       "277   AAZ55  0.0100  4.53  0.30 -2.154719   122.850000    Lit  6.401452e+16   \n",
       "\n",
       "     MT        AT  no_acp_rate     acp_rate  ApP_Rate_predictions  \\\n",
       "24   Pt  glycerol  1147.093302  1047.678019            976.813870   \n",
       "31   Cu  glycerol    72.700033    32.627235            -11.981938   \n",
       "38   Pd  glycerol   362.445473    97.630000            152.457741   \n",
       "39   Pd  glycerol   362.445473   100.815000            152.457741   \n",
       "40   Pd  glycerol   362.445473   138.970000            152.457741   \n",
       "..   ..       ...          ...          ...                   ...   \n",
       "259  Ni  glycerol   116.092890    83.850000             73.606361   \n",
       "261  Ni  glycerol   196.184882   151.981852            137.102213   \n",
       "266  Ni  glycerol   237.016204   162.175000            170.247642   \n",
       "267  Pd  glycerol   174.063060   148.850000            156.154020   \n",
       "277  Cu  glycerol   215.845244   121.144317            114.183280   \n",
       "\n",
       "     LI_Rate_predictions  \n",
       "24           1190.124268  \n",
       "31            -43.442902  \n",
       "38            157.657318  \n",
       "39            157.657318  \n",
       "40            157.657318  \n",
       "..                   ...  \n",
       "259            66.767479  \n",
       "261           122.504143  \n",
       "266           162.545120  \n",
       "267           137.105423  \n",
       "277           141.540558  \n",
       "\n",
       "[61 rows x 14 columns]"
      ]
     },
     "execution_count": 23,
     "metadata": {},
     "output_type": "execute_result"
    }
   ],
   "source": [
    "metrics.mean_absolute_error(\n",
    "    y_true=df[df.AT == \"glycerol\"].Rate,\n",
    "    y_pred=df[df.AT == \"glycerol\"].Rate\n",
    ")"
   ]
  },
  {
   "cell_type": "code",
   "execution_count": null,
   "id": "2389ec79-5841-4454-9ee5-325070940165",
   "metadata": {},
   "outputs": [],
   "source": []
  }
 ],
 "metadata": {
  "kernelspec": {
   "display_name": "Python 3 (ipykernel)",
   "language": "python",
   "name": "python3"
  },
  "language_info": {
   "codemirror_mode": {
    "name": "ipython",
    "version": 3
   },
   "file_extension": ".py",
   "mimetype": "text/x-python",
   "name": "python",
   "nbconvert_exporter": "python",
   "pygments_lexer": "ipython3",
   "version": "3.9.13"
  }
 },
 "nbformat": 4,
 "nbformat_minor": 5
}
